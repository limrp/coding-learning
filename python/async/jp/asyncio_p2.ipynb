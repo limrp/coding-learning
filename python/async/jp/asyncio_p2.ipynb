{
 "cells": [
  {
   "cell_type": "markdown",
   "metadata": {},
   "source": [
    "# Asyncio"
   ]
  },
  {
   "cell_type": "markdown",
   "metadata": {},
   "source": [
    "## P1. `asyncio.new_event_loop()`"
   ]
  },
  {
   "cell_type": "markdown",
   "metadata": {},
   "source": [
    "`asyncio` method to create a new event loop."
   ]
  },
  {
   "cell_type": "markdown",
   "metadata": {},
   "source": [
    "Yes, asyncio provides a method to create a task for a brand new event loop that hasn't started yet. This can be done using the `loop.create_task()` method, where `loop` is an instance of a new event loop. Here's how you can create a new event loop and schedule a task on it:\n",
    "\n",
    "1. **Create a New Event Loop**: First, you create a new event loop using `asyncio.new_event_loop()`.\n",
    "2. **Set the New Loop as the Current Loop**: You then set this new loop as the current event loop for the thread using `asyncio.set_event_loop(loop)`.\n",
    "3. **Create a Task on the New Loop**: After setting the new loop, you can create a task on it using `loop.create_task(coroutine)`.\n",
    "4. **Run the Loop**: Finally, you start the loop with `loop.run_until_complete(task)` or `loop.run_forever()`, depending on your needs.\n",
    "\n",
    "Here's an example:\n",
    "\n",
    "```python\n",
    "import asyncio\n",
    "\n",
    "# Define an asynchronous function (coroutine)\n",
    "async def simulated_task():\n",
    "    print(\"Task: Performing a task...\")\n",
    "    await asyncio.sleep(1)\n",
    "    print(\"Task: Task completed.\")\n",
    "\n",
    "# Create a new event loop\n",
    "new_loop = asyncio.new_event_loop()\n",
    "\n",
    "# Set the new loop as the current loop\n",
    "asyncio.set_event_loop(new_loop)\n",
    "\n",
    "# Create a task on the new loop\n",
    "task = new_loop.create_task(simulated_task())\n",
    "\n",
    "# Run the loop until the task is completed\n",
    "new_loop.run_until_complete(task)\n",
    "\n",
    "# Close the loop\n",
    "new_loop.close()\n",
    "```\n",
    "\n",
    "In this example, a brand new event loop is created and used to run the `simulated_task` coroutine. This is a common pattern when you need to run asynchronous code in environments where an event loop is not already running, such as in some scripts or non-async contexts."
   ]
  },
  {
   "cell_type": "markdown",
   "metadata": {},
   "source": [
    "## P1.1 Example with Callback and Await Task"
   ]
  },
  {
   "cell_type": "markdown",
   "metadata": {},
   "source": [
    "I'll add a callback function and an `await task` line to the example, making it similar to the previous one. This will demonstrate how you can use callbacks with a newly created event loop.\n",
    "\n",
    "```python\n",
    "import asyncio\n",
    "\n",
    "# Define an asynchronous function (coroutine)\n",
    "async def simulated_task():\n",
    "    print(\"Task: Performing a task...\")\n",
    "    await asyncio.sleep(1)\n",
    "    print(\"Task: Task completed.\")\n",
    "\n",
    "# Callback function to be called when the simulated task is done\n",
    "def on_task_complete(future):\n",
    "    print(\"Callback: The task has completed!\")\n",
    "\n",
    "# Create a new event loop\n",
    "new_loop = asyncio.new_event_loop()\n",
    "\n",
    "# Set the new loop as the current loop\n",
    "asyncio.set_event_loop(new_loop)\n",
    "\n",
    "# Create a task on the new loop\n",
    "task = new_loop.create_task(simulated_task())\n",
    "\n",
    "# Attach the callback to the task\n",
    "task.add_done_callback(on_task_complete)\n",
    "\n",
    "# Run the loop until the task is completed\n",
    "new_loop.run_until_complete(task)\n",
    "\n",
    "# Close the loop\n",
    "new_loop.close()\n",
    "```\n",
    "\n",
    "In this example, after creating the task, we attach the `on_task_complete` callback to it. The event loop then runs until the task is complete, at which point the callback is executed."
   ]
  },
  {
   "cell_type": "markdown",
   "metadata": {},
   "source": [
    "## P3. Differences Between `asyncio.new_event_loop()` and `asyncio.run(main())`\n",
    "\n",
    "1. **Usage Context**:\n",
    "   - `asyncio.new_event_loop()`: This approach is typically used in environments where you need more control over the event loop lifecycle or when you're integrating with existing applications that may have their own event loop management. It allows for manual setup and teardown of the event loop.\n",
    "   - `asyncio.run(main())`: This is a high-level API for running a coroutine and managing the event loop. It's a simpler and more straightforward way to run async code, ideal for scripts or standalone async applications. It automatically creates a new event loop, runs the given coroutine, and closes the loop at the end.\n",
    "\n",
    "2. **Event Loop Management**:\n",
    "   - With `asyncio.new_event_loop()`, you have to manually create the loop, set it as the current loop, and ensure it's properly closed. This gives you more flexibility but also requires more boilerplate code.\n",
    "   - `asyncio.run(main())` handles all these steps for you. It creates the loop, runs the coroutine, and closes the loop, all in one call. This makes the code cleaner and reduces the risk of errors like forgetting to close the loop.\n",
    "\n",
    "\n",
    "3. **Flexibility and Control**:\n",
    "   - Using `asyncio.new_event_loop()` gives you more control over when and how the event loop is run and closed. This can be important in complex applications where you need to integrate with other event-driven code.\n",
    "   - `asyncio.run(main())` is more opinionated and straightforward, providing a standard way to run async code without needing to manage the event loop details.\n",
    "\n",
    "In a non-Jupyter environment, if you're writing a simple script or a standalone async application, `asyncio.run(main())` is usually the preferred and easier method. However, if you need more control over the event loop or are integrating with other frameworks, manually managing the event loop with `asyncio.new_event_loop()` might be necessary."
   ]
  },
  {
   "cell_type": "markdown",
   "metadata": {},
   "source": [
    "## P4. Mock example related to bioinformatics"
   ]
  },
  {
   "cell_type": "markdown",
   "metadata": {},
   "source": [
    "Certainly! Let's consider a bioinformatics scenario where you might have multiple long-running, I/O-bound tasks, such as querying different genomic databases or running computations on large datasets. Asynchronous programming can be particularly beneficial in this context because it allows you to execute these tasks concurrently, without blocking the rest of your program.\n",
    "\n",
    "### Example Scenario: Asynchronous Genomic Data Fetching\n",
    "\n",
    "**Objective**: Fetch data from multiple genomic databases concurrently and process the results once they're all retrieved.\n",
    "\n",
    "**Tasks**:\n",
    "1. Fetch variant information from a database like ClinVar.\n",
    "2. Fetch gene expression data from a database like Gene Expression Omnibus (GEO).\n",
    "3. Process the fetched data once both tasks are complete.\n",
    "\n",
    "**Asynchronous Programming Advantage**:\n",
    "- Both fetching tasks can run concurrently, significantly reducing the total time if they were run sequentially.\n",
    "- The main program can continue to perform other tasks or remain responsive while waiting for the data.\n",
    "\n",
    "### Example Code:"
   ]
  },
  {
   "cell_type": "code",
   "execution_count": null,
   "metadata": {},
   "outputs": [],
   "source": [
    "# DO NOT RUN IN JUPYTER NOTEBOOK\n",
    "# RUN IN A SCRIPT\n",
    "import asyncio\n",
    "import random\n",
    "\n",
    "# Simulate fetching variant information\n",
    "async def fetch_variant_data():\n",
    "    print(\"Fetching variant data...\")\n",
    "    await asyncio.sleep(random.randint(1, 3))  # Simulate network delay\n",
    "    print(\"Variant data fetched!\")\n",
    "    return \"Variant Data\"\n",
    "\n",
    "# Simulate fetching gene expression data\n",
    "async def fetch_gene_expression():\n",
    "    print(\"Fetching gene expression data...\")\n",
    "    await asyncio.sleep(random.randint(1, 3))  # Simulate network delay\n",
    "    print(\"Gene expression data fetched!\")\n",
    "    return \"Gene Expression Data\"\n",
    "\n",
    "# Callback to process data after fetching\n",
    "def process_data(future):\n",
    "    data = future.result()\n",
    "    print(f\"Processing {data}...\")\n",
    "\n",
    "# Main function to run the event loop\n",
    "async def main():\n",
    "    # Create tasks for fetching data\n",
    "    variant_task = asyncio.create_task(fetch_variant_data())\n",
    "    gene_expression_task = asyncio.create_task(fetch_gene_expression())\n",
    "\n",
    "    # Attach callbacks to each task\n",
    "    variant_task.add_done_callback(process_data)\n",
    "    gene_expression_task.add_done_callback(process_data)\n",
    "\n",
    "    # Wait for all tasks to complete\n",
    "    await asyncio.gather(variant_task, gene_expression_task)\n",
    "\n",
    "# Run the event loop\n",
    "asyncio.run(main())\n",
    "# DO NOT RUN IN JUPYTER NOTEBOOK\n",
    "# RUN IN A SCRIPT"
   ]
  },
  {
   "cell_type": "markdown",
   "metadata": {},
   "source": [
    "### Explanation:\n",
    "\n",
    "- **Asynchronous Functions**: `fetch_variant_data` and `fetch_gene_expression` simulate the asynchronous fetching of data. They use `await asyncio.sleep()` to mimic network delay.\n",
    "- **Callbacks**: The `process_data` function is a callback that processes the data once it's fetched. It's attached to each task and is called once the task completes.\n",
    "- **Concurrency**: The `asyncio.gather()` function waits for both tasks to complete, allowing them to run concurrently.\n",
    "\n",
    "### Real-Life Application:\n",
    "\n",
    "In a real-world scenario, you would replace the simulated fetching functions with actual asynchronous HTTP requests to the respective databases. \n",
    "\n",
    "The callback function could be more complex, involving data parsing, analysis, or integration with other data sources.\n",
    "\n",
    "This approach is especially useful in bioinformatics when dealing with large-scale data analysis and multiple external data sources. Asynchronous programming allows for more efficient use of time and resources, particularly when dealing with I/O-bound tasks like network requests."
   ]
  },
  {
   "cell_type": "code",
   "execution_count": 10,
   "metadata": {},
   "outputs": [
    {
     "name": "stdout",
     "output_type": "stream",
     "text": [
      "try block\n",
      "Except block\n",
      "End of except block\n"
     ]
    },
    {
     "name": "stderr",
     "output_type": "stream",
     "text": [
      "/tmp/ipykernel_25853/1766756248.py:53: RuntimeWarning: coroutine 'main' was never awaited\n",
      "  print(\"End of except block\")\n",
      "RuntimeWarning: Enable tracemalloc to get the object allocation traceback\n"
     ]
    }
   ],
   "source": [
    "import asyncio\n",
    "import random\n",
    "\n",
    "# Simulate fetching variant information\n",
    "async def fetch_variant_data():\n",
    "    print(\"Fetching variant data...\")\n",
    "    await asyncio.sleep(random.randint(1, 3))  # Simulate network delay\n",
    "    print(\"Variant data fetched!\")\n",
    "    return \"Variant Data\"\n",
    "\n",
    "# Simulate fetching gene expression data\n",
    "async def fetch_gene_expression():\n",
    "    print(\"Fetching gene expression data...\")\n",
    "    await asyncio.sleep(random.randint(1, 3))  # Simulate network delay\n",
    "    print(\"Gene expression data fetched!\")\n",
    "    return \"Gene Expression Data\"\n",
    "\n",
    "# Callback to process data after fetching\n",
    "def process_data(future):\n",
    "    data = future.result()\n",
    "    print(f\"Processing {data}...\")\n",
    "\n",
    "# Main function to run the event loop\n",
    "async def main():\n",
    "    # Create tasks for fetching data\n",
    "    variant_task = asyncio.create_task(fetch_variant_data())\n",
    "    gene_expression_task = asyncio.create_task(fetch_gene_expression())\n",
    "\n",
    "    # Attach callbacks to each task\n",
    "    variant_task.add_done_callback(process_data)\n",
    "    gene_expression_task.add_done_callback(process_data)\n",
    "\n",
    "    # Wait for all tasks to complete\n",
    "    await asyncio.gather(variant_task, gene_expression_task)\n",
    "\n",
    "# Instead of using asyncio.run, use the existing event loop\n",
    "loop = asyncio.get_event_loop()\n",
    "\n",
    "try:\n",
    "    print(\"try block\")\n",
    "    loop.run_until_complete(main()) # cannot be called on a loop that's already running #=> go to the except block\n",
    "    # loop.create_task(main())\n",
    "    print(\"end of try block\")\n",
    "except RuntimeError:\n",
    "    print(\"Except block\")\n",
    "    # If the loop is closed, you need to reopen it\n",
    "    loop = asyncio.new_event_loop()\n",
    "    asyncio.set_event_loop(loop)\n",
    "    loop.create_task(main())\n",
    "    # Instead of run_forever, you may use loop.run_until_complete(main())\n",
    "    print(\"End of except block\")"
   ]
  },
  {
   "cell_type": "markdown",
   "metadata": {},
   "source": [
    "The warning you're seeing is due to a mismatch in how the event loop is being used in your script, specifically in the exception handling block. \n",
    "\n",
    "Here's a breakdown of the issue and how to resolve it:\n",
    "\n",
    "1. **Issue:** \n",
    "   - The warning `RuntimeWarning: coroutine 'main' was never awaited` indicates that the coroutine `main()` was scheduled to run as a task (`loop.create_task(main())`), but it was never actually awaited or run to completion. \n",
    "   - This happens because after creating the task, you didn't start the loop with `loop.run_until_complete(main())` or `loop.run_forever()`.\n",
    "\n",
    "2. **Solution:** \n",
    "   - In the `except` block, where you handle the `RuntimeError`, you should ensure that the event loop runs the `main()` coroutine to completion.\n",
    "   - This can be achieved by replacing `loop.create_task(main())` with `loop.run_until_complete(main())`.\n",
    "\n",
    "Here's the corrected portion of the script:\n",
    "\n",
    "```python\n",
    "try:\n",
    "    loop.run_until_complete(main())\n",
    "except RuntimeError:\n",
    "    # If the loop is closed, you need to reopen it\n",
    "    loop = asyncio.new_event_loop()\n",
    "    asyncio.set_event_loop(loop)\n",
    "    loop.run_until_complete(main())  # Run the main coroutine to completion\n",
    "```\n",
    "\n",
    "This ensures that whether you are in the normal execution flow or handling a `RuntimeError` due to a closed loop, the `main()` coroutine is always run to completion."
   ]
  },
  {
   "cell_type": "markdown",
   "metadata": {},
   "source": [
    "Is this because, in the except block, a new event loop was created and `loop.create_task(main())` is not enough to ensure that the event loop runs the `main() `coroutine to completion and that's why it needs to be replaced by `loop.run_until_complete(main())`?\n",
    "\n",
    "Yes, your understanding is correct. Let's break it down for clarity:\n",
    "\n",
    "1. **In the `except` Block**:\n",
    "   - When a new event loop is created using `asyncio.new_event_loop()`, **it is not running by default**. This is a fresh event loop, independent of any that might be running in the background (like the one in a Jupyter Notebook).\n",
    "   - Therefore, after creating and setting this new event loop, **you need to explicitly start it to run your coroutine**. This is where `loop.run_until_complete(main())` comes into play. It starts the new event loop and runs the `main()` coroutine to completion.\n",
    "   - If you were to use `loop.create_task(main())` in this context without starting the loop (i.e., without `loop.run_until_complete(main())` or `loop.run_forever()`), the coroutine would be scheduled but would not execute because the loop isn't running."
   ]
  },
  {
   "cell_type": "code",
   "execution_count": 19,
   "metadata": {},
   "outputs": [
    {
     "name": "stdout",
     "output_type": "stream",
     "text": [
      "try block\n",
      "Except block\n"
     ]
    },
    {
     "ename": "RuntimeError",
     "evalue": "Cannot run the event loop while another loop is running",
     "output_type": "error",
     "traceback": [
      "\u001b[0;31m---------------------------------------------------------------------------\u001b[0m",
      "\u001b[0;31mRuntimeError\u001b[0m                              Traceback (most recent call last)",
      "\u001b[1;32m/media/koala/Main/prog/python/async/jp/asyncio_p2.ipynb Cell 15\u001b[0m line \u001b[0;36m<cell line: 39>\u001b[0;34m()\u001b[0m\n\u001b[1;32m     <a href='vscode-notebook-cell:/media/koala/Main/prog/python/async/jp/asyncio_p2.ipynb#X20sZmlsZQ%3D%3D?line=39'>40</a>\u001b[0m \u001b[39mprint\u001b[39m(\u001b[39m\"\u001b[39m\u001b[39mtry block\u001b[39m\u001b[39m\"\u001b[39m)\n\u001b[0;32m---> <a href='vscode-notebook-cell:/media/koala/Main/prog/python/async/jp/asyncio_p2.ipynb#X20sZmlsZQ%3D%3D?line=40'>41</a>\u001b[0m loop\u001b[39m.\u001b[39;49mrun_until_complete(main()) \u001b[39m# cannot be called on a loop that's already running\u001b[39;00m\n\u001b[1;32m     <a href='vscode-notebook-cell:/media/koala/Main/prog/python/async/jp/asyncio_p2.ipynb#X20sZmlsZQ%3D%3D?line=41'>42</a>\u001b[0m \u001b[39m# loop.create_task(main())\u001b[39;00m\n",
      "File \u001b[0;32m~/anaconda3/envs/jupyter/lib/python3.9/asyncio/base_events.py:623\u001b[0m, in \u001b[0;36mBaseEventLoop.run_until_complete\u001b[0;34m(self, future)\u001b[0m\n\u001b[1;32m    622\u001b[0m \u001b[39mself\u001b[39m\u001b[39m.\u001b[39m_check_closed()\n\u001b[0;32m--> 623\u001b[0m \u001b[39mself\u001b[39;49m\u001b[39m.\u001b[39;49m_check_running()\n\u001b[1;32m    625\u001b[0m new_task \u001b[39m=\u001b[39m \u001b[39mnot\u001b[39;00m futures\u001b[39m.\u001b[39misfuture(future)\n",
      "File \u001b[0;32m~/anaconda3/envs/jupyter/lib/python3.9/asyncio/base_events.py:583\u001b[0m, in \u001b[0;36mBaseEventLoop._check_running\u001b[0;34m(self)\u001b[0m\n\u001b[1;32m    582\u001b[0m \u001b[39mif\u001b[39;00m \u001b[39mself\u001b[39m\u001b[39m.\u001b[39mis_running():\n\u001b[0;32m--> 583\u001b[0m     \u001b[39mraise\u001b[39;00m \u001b[39mRuntimeError\u001b[39;00m(\u001b[39m'\u001b[39m\u001b[39mThis event loop is already running\u001b[39m\u001b[39m'\u001b[39m)\n\u001b[1;32m    584\u001b[0m \u001b[39mif\u001b[39;00m events\u001b[39m.\u001b[39m_get_running_loop() \u001b[39mis\u001b[39;00m \u001b[39mnot\u001b[39;00m \u001b[39mNone\u001b[39;00m:\n",
      "\u001b[0;31mRuntimeError\u001b[0m: This event loop is already running",
      "\nDuring handling of the above exception, another exception occurred:\n",
      "\u001b[0;31mRuntimeError\u001b[0m                              Traceback (most recent call last)",
      "\u001b[1;32m/media/koala/Main/prog/python/async/jp/asyncio_p2.ipynb Cell 15\u001b[0m line \u001b[0;36m<cell line: 39>\u001b[0;34m()\u001b[0m\n\u001b[1;32m     <a href='vscode-notebook-cell:/media/koala/Main/prog/python/async/jp/asyncio_p2.ipynb#X20sZmlsZQ%3D%3D?line=48'>49</a>\u001b[0m \u001b[39m# set it as the current loop\u001b[39;00m\n\u001b[1;32m     <a href='vscode-notebook-cell:/media/koala/Main/prog/python/async/jp/asyncio_p2.ipynb#X20sZmlsZQ%3D%3D?line=49'>50</a>\u001b[0m asyncio\u001b[39m.\u001b[39mset_event_loop(loop)\n\u001b[0;32m---> <a href='vscode-notebook-cell:/media/koala/Main/prog/python/async/jp/asyncio_p2.ipynb#X20sZmlsZQ%3D%3D?line=50'>51</a>\u001b[0m loop\u001b[39m.\u001b[39;49mrun_until_complete(main()) \u001b[39m# Run the main coroutine to completion\u001b[39;00m\n\u001b[1;32m     <a href='vscode-notebook-cell:/media/koala/Main/prog/python/async/jp/asyncio_p2.ipynb#X20sZmlsZQ%3D%3D?line=51'>52</a>\u001b[0m \u001b[39m# Instead of run_forever, you may use loop.run_until_complete(main())\u001b[39;00m\n\u001b[1;32m     <a href='vscode-notebook-cell:/media/koala/Main/prog/python/async/jp/asyncio_p2.ipynb#X20sZmlsZQ%3D%3D?line=52'>53</a>\u001b[0m \u001b[39mprint\u001b[39m(\u001b[39m\"\u001b[39m\u001b[39mEnd of except block\u001b[39m\u001b[39m\"\u001b[39m)\n",
      "File \u001b[0;32m~/anaconda3/envs/jupyter/lib/python3.9/asyncio/base_events.py:623\u001b[0m, in \u001b[0;36mBaseEventLoop.run_until_complete\u001b[0;34m(self, future)\u001b[0m\n\u001b[1;32m    612\u001b[0m \u001b[39m\"\"\"Run until the Future is done.\u001b[39;00m\n\u001b[1;32m    613\u001b[0m \n\u001b[1;32m    614\u001b[0m \u001b[39mIf the argument is a coroutine, it is wrapped in a Task.\u001b[39;00m\n\u001b[0;32m   (...)\u001b[0m\n\u001b[1;32m    620\u001b[0m \u001b[39mReturn the Future's result, or raise its exception.\u001b[39;00m\n\u001b[1;32m    621\u001b[0m \u001b[39m\"\"\"\u001b[39;00m\n\u001b[1;32m    622\u001b[0m \u001b[39mself\u001b[39m\u001b[39m.\u001b[39m_check_closed()\n\u001b[0;32m--> 623\u001b[0m \u001b[39mself\u001b[39;49m\u001b[39m.\u001b[39;49m_check_running()\n\u001b[1;32m    625\u001b[0m new_task \u001b[39m=\u001b[39m \u001b[39mnot\u001b[39;00m futures\u001b[39m.\u001b[39misfuture(future)\n\u001b[1;32m    626\u001b[0m future \u001b[39m=\u001b[39m tasks\u001b[39m.\u001b[39mensure_future(future, loop\u001b[39m=\u001b[39m\u001b[39mself\u001b[39m)\n",
      "File \u001b[0;32m~/anaconda3/envs/jupyter/lib/python3.9/asyncio/base_events.py:585\u001b[0m, in \u001b[0;36mBaseEventLoop._check_running\u001b[0;34m(self)\u001b[0m\n\u001b[1;32m    583\u001b[0m     \u001b[39mraise\u001b[39;00m \u001b[39mRuntimeError\u001b[39;00m(\u001b[39m'\u001b[39m\u001b[39mThis event loop is already running\u001b[39m\u001b[39m'\u001b[39m)\n\u001b[1;32m    584\u001b[0m \u001b[39mif\u001b[39;00m events\u001b[39m.\u001b[39m_get_running_loop() \u001b[39mis\u001b[39;00m \u001b[39mnot\u001b[39;00m \u001b[39mNone\u001b[39;00m:\n\u001b[0;32m--> 585\u001b[0m     \u001b[39mraise\u001b[39;00m \u001b[39mRuntimeError\u001b[39;00m(\n\u001b[1;32m    586\u001b[0m         \u001b[39m'\u001b[39m\u001b[39mCannot run the event loop while another loop is running\u001b[39m\u001b[39m'\u001b[39m)\n",
      "\u001b[0;31mRuntimeError\u001b[0m: Cannot run the event loop while another loop is running"
     ]
    }
   ],
   "source": [
    "import asyncio\n",
    "import random\n",
    "\n",
    "# Simulate fetching variant information\n",
    "async def fetch_variant_data():\n",
    "    print(\"Fetching variant data...\")\n",
    "    await asyncio.sleep(random.randint(1, 3))  # Simulate network delay\n",
    "    print(\"Variant data fetched!\")\n",
    "    return \"Variant Data\"\n",
    "\n",
    "# Simulate fetching gene expression data\n",
    "async def fetch_gene_expression():\n",
    "    print(\"Fetching gene expression data...\")\n",
    "    await asyncio.sleep(random.randint(1, 3))  # Simulate network delay\n",
    "    print(\"Gene expression data fetched!\")\n",
    "    return \"Gene Expression Data\"\n",
    "\n",
    "# Callback to process data after fetching\n",
    "def process_data(future):\n",
    "    data = future.result()\n",
    "    print(f\"Processing {data}...\")\n",
    "\n",
    "# Main function to run the event loop\n",
    "async def main():\n",
    "    # Create tasks for fetching data\n",
    "    variant_task = asyncio.create_task(fetch_variant_data())\n",
    "    gene_expression_task = asyncio.create_task(fetch_gene_expression())\n",
    "\n",
    "    # Attach callbacks to each task\n",
    "    variant_task.add_done_callback(process_data)\n",
    "    gene_expression_task.add_done_callback(process_data)\n",
    "\n",
    "    # Wait for all tasks to complete\n",
    "    await asyncio.gather(variant_task, gene_expression_task)\n",
    "\n",
    "# Instead of using asyncio.run, use the existing event loop\n",
    "loop = asyncio.get_event_loop()\n",
    "\n",
    "try:\n",
    "    print(\"try block\")\n",
    "    loop.run_until_complete(main()) # cannot be called on a loop that's already running\n",
    "    # loop.create_task(main())\n",
    "    print(\"End of try block\")\n",
    "except RuntimeError:\n",
    "    # If the loop from the jn was closed for some reason (never going to happend in a jn)\n",
    "    print(\"Except block\")\n",
    "    # If the loop is closed, you need to reopen it\n",
    "    loop = asyncio.new_event_loop()\n",
    "    # set it as the current loop\n",
    "    asyncio.set_event_loop(loop)\n",
    "    loop.run_until_complete(main()) # Run the main coroutine to completion\n",
    "    # Instead of run_forever, you may use loop.run_until_complete(main())\n",
    "    print(\"End of except block\")"
   ]
  },
  {
   "cell_type": "markdown",
   "metadata": {},
   "source": [
    "**THIS ALSO GAVE ME AN ERROR!**"
   ]
  },
  {
   "cell_type": "markdown",
   "metadata": {},
   "source": [
    "The error message you're encountering is due to trying to run an event loop that is already running in the Jupyter Notebook environment. \n",
    "\n",
    "This is a common issue when working with asyncio in Jupyter Notebooks, as the notebook itself operates within an event loop.\n",
    "\n",
    "Here’s a breakdown of what’s happening:\n",
    "\n",
    "1. **In the `try` Block**: \n",
    "    - `loop.run_until_complete(main())` is called. \n",
    "        - However, in Jupyter Notebooks, there's typically an event loop already running in the background, which leads to the `RuntimeError: This event loop is already running`. \n",
    "\n",
    "2. **In the `except` Block**:\n",
    "    - You correctly create a new event loop and set it as the current loop. Then, you try to run `main()` to completion using `loop.run_until_complete(main())`. \n",
    "        - However, because the Jupyter Notebook's event loop is still running, this leads to another `RuntimeError: Cannot run the event loop while another loop is running`.\n",
    "\n",
    "To resolve this in a Jupyter Notebook environment, **you should schedule the coroutine as a task within the existing event loop**. \n",
    "\n",
    "i.e. **FIX THE TRY BLOCK** using `loop.create_task(main())` instead of `loop.run_until_complete(main())`\n",
    "\n",
    "Here's how you can modify the script:"
   ]
  },
  {
   "cell_type": "code",
   "execution_count": 20,
   "metadata": {},
   "outputs": [
    {
     "name": "stdout",
     "output_type": "stream",
     "text": [
      "try block\n",
      "end of try block\n"
     ]
    },
    {
     "name": "stdout",
     "output_type": "stream",
     "text": [
      "Fetching variant data...\n",
      "Fetching gene expression data...\n",
      "Variant data fetched!\n",
      "Processing Variant Data...\n",
      "Gene expression data fetched!\n",
      "Processing Gene Expression Data...\n"
     ]
    }
   ],
   "source": [
    "import asyncio\n",
    "import random\n",
    "\n",
    "# Simulate fetching variant information\n",
    "async def fetch_variant_data():\n",
    "    print(\"Fetching variant data...\")\n",
    "    await asyncio.sleep(random.randint(1, 3))  # Simulate network delay\n",
    "    print(\"Variant data fetched!\")\n",
    "    return \"Variant Data\"\n",
    "\n",
    "# Simulate fetching gene expression data\n",
    "async def fetch_gene_expression():\n",
    "    print(\"Fetching gene expression data...\")\n",
    "    await asyncio.sleep(random.randint(1, 3))  # Simulate network delay\n",
    "    print(\"Gene expression data fetched!\")\n",
    "    return \"Gene Expression Data\"\n",
    "\n",
    "# Callback to process data after fetching\n",
    "def process_data(future):\n",
    "    data = future.result()\n",
    "    print(f\"Processing {data}...\")\n",
    "\n",
    "# Main function to run the event loop\n",
    "async def main():\n",
    "    # Create tasks for fetching data\n",
    "    variant_task = asyncio.create_task(fetch_variant_data())\n",
    "    gene_expression_task = asyncio.create_task(fetch_gene_expression())\n",
    "\n",
    "    # Attach callbacks to each task\n",
    "    variant_task.add_done_callback(process_data)\n",
    "    gene_expression_task.add_done_callback(process_data)\n",
    "\n",
    "    # Wait for all tasks to complete\n",
    "    await asyncio.gather(variant_task, gene_expression_task)\n",
    "\n",
    "# Instead of using asyncio.run, use the existing event loop\n",
    "loop = asyncio.get_event_loop()\n",
    "\n",
    "# FIXING THE TRY BLOCK\n",
    "try:\n",
    "    print(\"try block\")\n",
    "    # loop.run_until_complete(main()) # cannot be called on a loop that's already running\n",
    "    \n",
    "    # Schedule main() as a task within the existing event loop\n",
    "    loop.create_task(main())\n",
    "    print(\"end of try block\")\n",
    "except RuntimeError:\n",
    "    # This block is unlikely to ever be run in a Jupyter notebook environment because its loop is never closed, but ...\n",
    "    print(\"Except block\")\n",
    "    # If the loop is closed (unlikely in Jupyter), you need to reopen it and run main\n",
    "    loop = asyncio.new_event_loop()\n",
    "    asyncio.set_event_loop(loop) \n",
    "    loop.run_until_complete(main()) #=> FAILS because the Jupyter Notebook's event loop is still running\n",
    "    print(\"End of except block\")"
   ]
  },
  {
   "cell_type": "markdown",
   "metadata": {},
   "source": [
    "The **try** block was fixed.\n",
    "\n",
    "In this modification, the `try` block simply schedules `main()` as a task within the existing event loop, which is the correct approach in a Jupyter environment. \n",
    "\n",
    "If, for some reason, the loop is closed and you enter the except block, then you create a new loop and run `main()` to completion in this new loop.\n",
    "\n",
    "This approach should work without raising the `RuntimeError`."
   ]
  },
  {
   "cell_type": "markdown",
   "metadata": {},
   "source": [
    "### **REVIEW 1**: To have it clear, how to schedule a task in an already running event loop"
   ]
  },
  {
   "cell_type": "markdown",
   "metadata": {},
   "source": [
    " (which is normal in Jupyter environments)"
   ]
  },
  {
   "cell_type": "markdown",
   "metadata": {},
   "source": [
    "The error message you're encountering indicates a common issue when working with event loops in a Jupyter Notebook environment. Let's break down the error and the changes you made to the script.\n",
    "\n",
    "1. **In the `try` Block**:\n",
    "   - You have `loop.run_until_complete(main())`, but in a Jupyter Notebook, the event loop is typically already running. This is why you get the `RuntimeError: This event loop is already running`. In such an environment, `loop.run_until_complete(main())` is not appropriate because it tries to start an already running loop.\n",
    "\n",
    "2. **In the `except` Block**:\n",
    "   - You correctly create a new event loop and set it as the current loop. However, the issue arises with these two lines:\n",
    "     - `loop.create_task(main())`\n",
    "     - `loop.run_until_complete(main())`\n",
    "   - The problem is that you're essentially scheduling the `main()` coroutine twice: first with `create_task`, and then again with `run_until_complete`. This is unnecessary and leads to the warning about a coroutine that was never awaited.\n",
    "\n",
    "3. **Corrected Script**:\n",
    "   - To correct the script, you should schedule the `main()` coroutine only once in the `except` block. Either use `create_task` and then start the loop with something like `loop.run_forever()`, or use `run_until_complete` directly.\n",
    "   - Here is a revised version of the script:\n",
    "\n",
    "     ```python\n",
    "     # ... [rest of your code] ...\n",
    "\n",
    "     # Instead of using asyncio.run, use the existing event loop\n",
    "     loop = asyncio.get_event_loop()\n",
    "\n",
    "     try:\n",
    "         print(\"try block\")\n",
    "         # In a Jupyter environment, this line should be commented out or removed\n",
    "         # loop.run_until_complete(main()) # cannot be called on a loop that's already running\n",
    "         loop.create_task(main())\n",
    "         print(\"end of try block\")\n",
    "     except RuntimeError:\n",
    "         print(\"Except block\")\n",
    "         # If the loop is closed, you need to reopen it\n",
    "         loop = asyncio.new_event_loop()\n",
    "         asyncio.set_event_loop(loop)\n",
    "         loop.run_until_complete(main())  # Correct way to run the coroutine on the new loop\n",
    "         print(\"End of except block\")\n",
    "     ```\n",
    "\n",
    "4. **Summary**:\n",
    "   - In a Jupyter Notebook, use `loop.create_task(main())` without `run_until_complete` in the `try` block.\n",
    "   - In the `except` block, where you're dealing with a fresh event loop, use `loop.run_until_complete(main())` to run the coroutine to completion.\n",
    "\n",
    "This approach should avoid the errors and warnings you've encountered and allow your asyncio code to run smoothly in a Jupyter Notebook environment."
   ]
  },
  {
   "cell_type": "markdown",
   "metadata": {},
   "source": [
    "### **REVIEW 2**: When I change `loop.run_until_complete(main())` by `loop.create_task(main())`"
   ]
  },
  {
   "cell_type": "markdown",
   "metadata": {},
   "source": [
    "... the `try` block is executed and everything runs well"
   ]
  },
  {
   "cell_type": "markdown",
   "metadata": {},
   "source": [
    "You've made a very important observation. In a Jupyter Notebook environment, there is indeed already an event loop running, and this context makes the behavior of asyncio slightly different than in a standard Python script. \n",
    "\n",
    "1. **New Event Loop**: When you create a new event loop using `asyncio.new_event_loop()`, it is indeed a different loop from the one that Jupyter Notebook is already running. However, in the Jupyter environment, you typically don't need to create a new loop unless the default loop is closed or not suitable for some reason.\n",
    "\n",
    "2. **Using `loop.create_task(main())`**: In the Jupyter Notebook, since an event loop is already running, using `loop.create_task(main())` schedules the `main()` coroutine on the existing event loop. This approach works **because the running event loop will pick up and execute the task you've scheduled**. This is why your `try` block works correctly and all the output is generated as expected.\n",
    "\n",
    "    - **Run to Completion**: When you schedule a task on an existing event loop, as you did with `loop.create_task(main())`, the event loop continues to run and will execute this task. You don't need to manually start the loop again because it's already running.\n",
    "\n",
    "3. **Behavior in Jupyter vs. Standard Python Script**: The key difference in a Jupyter Notebook environment is that you don't typically start and stop the event loop manually, as the notebook's underlying infrastructure is already handling an event loop. This contrasts with a standalone Python script, where you have more control over when and how the event loop starts and stops.\n",
    "\n",
    "In summary, your understanding and adaptation of the asyncio code to work within the Jupyter Notebook environment is correct. \n",
    "\n",
    "The `try` block effectively **schedules** the `main()` coroutine **on the existing event loop**, which is **already running**, thereby avoiding the need to start a new loop or handle a `RuntimeError`."
   ]
  },
  {
   "cell_type": "markdown",
   "metadata": {},
   "source": [
    "### **Review 3**"
   ]
  },
  {
   "cell_type": "markdown",
   "metadata": {},
   "source": [
    "What would happen if an event loop is **already running** (the one from the jupyter notebook environment?\n",
    "\n",
    "Would `loop.create_task(main())` be enough to ensure that the event loop runs the `main()` coroutine to completion?"
   ]
  },
  {
   "cell_type": "markdown",
   "metadata": {},
   "source": [
    "2. **In a Jupyter Notebook Environment**:\n",
    "   - In the case where an event loop is already running (as in a Jupyter Notebook), `loop.create_task(main())` is generally sufficient to schedule and run the coroutine to completion.\n",
    "   - The existing running event loop will pick up and execute the task you’ve scheduled. You don’t need to manually start the loop with `loop.run_until_complete(main())` or `loop.run_forever()` because the loop is already active and handling tasks.\n",
    "\n",
    "3. **Key Differences**:\n",
    "   - In a typical Python script, you have full control over the event loop: creating it, starting it, running tasks, and stopping it. \n",
    "      - You often use `asyncio.run(main())` or control the loop with `loop.run_until_complete(main())`.\n",
    "   - In a Jupyter Notebook, the event loop is usually already running in the background. \n",
    "      - Therefore, you primarily focus on scheduling tasks on this existing loop, without needing to start or stop it.\n",
    "\n",
    "So, to answer your final question: In a Jupyter Notebook, where an event loop is already running, `loop.create_task(main())` is **indeed enough to ensure that the event loop runs** the `main()` coroutine **to completion**. \n",
    "\n",
    "**The existing loop will automatically handle the execution of the task you schedule**."
   ]
  },
  {
   "cell_type": "markdown",
   "metadata": {},
   "source": [
    "### Experiment\n",
    "\n"
   ]
  },
  {
   "cell_type": "markdown",
   "metadata": {},
   "source": [
    "If I change the last part of the script and ...\n",
    "\n",
    "Add `loop.run_until_complete(main())` after `loop.create_task(main())` gives me an error message."
   ]
  },
  {
   "cell_type": "code",
   "execution_count": null,
   "metadata": {},
   "outputs": [],
   "source": [
    "# Instead of using asyncio.run, use the existing event loop\n",
    "loop = asyncio.get_event_loop()\n",
    "\n",
    "try:\n",
    "    print(\"try block\")\n",
    "    loop.run_until_complete(main()) # cannot be called on a loop that's already running\n",
    "    # loop.create_task(main())\n",
    "    print(\"end of try block\")\n",
    "except RuntimeError:\n",
    "    print(\"Except block\")\n",
    "    # If the loop is closed, you need to reopen it\n",
    "    loop = asyncio.new_event_loop()\n",
    "    asyncio.set_event_loop(loop)\n",
    "    loop.create_task(main())\n",
    "    loop.run_until_complete(main())\n",
    "    # Instead of run_forever, you may use loop.run_until_complete(main())\n",
    "    print(\"End of except block\")"
   ]
  },
  {
   "cell_type": "markdown",
   "metadata": {},
   "source": [
    "**Answer**"
   ]
  },
  {
   "cell_type": "markdown",
   "metadata": {},
   "source": [
    "The error message you're encountering indicates a common issue when working with event loops in a Jupyter Notebook environment. Let's break down the error and the changes you made to the script.\n",
    "\n",
    "1. **In the `try` Block**:\n",
    "   - You have `loop.run_until_complete(main())`, but in a Jupyter Notebook, the event loop is typically already running. This is why you get the `RuntimeError: This event loop is already running`. In such an environment, `loop.run_until_complete(main())` is not appropriate because it tries to start an already running loop.\n",
    "\n",
    "2. **In the `except` Block**:\n",
    "   - You correctly create a new event loop and set it as the current loop. However, the issue arises with these two lines:\n",
    "     - `loop.create_task(main())`\n",
    "     - `loop.run_until_complete(main())`\n",
    "   - The problem is that you're essentially scheduling the `main()` coroutine twice: first with `create_task`, and then again with `run_until_complete`. This is unnecessary and leads to the warning about a coroutine that was never awaited.\n",
    "\n",
    "3. **Corrected Script**:\n",
    "   - To correct the script, you should schedule the `main()` coroutine only once in the `except` block. Either use `create_task` and then start the loop with something like `loop.run_forever()`, or use `run_until_complete` directly.\n",
    "   - Here is a revised version of the script:\n",
    "\n",
    "     ```python\n",
    "     # ... [rest of your code] ...\n",
    "\n",
    "     # Instead of using asyncio.run, use the existing event loop\n",
    "     loop = asyncio.get_event_loop()\n",
    "\n",
    "     try:\n",
    "         print(\"try block\")\n",
    "         # In a Jupyter environment, this line should be commented out or removed\n",
    "         # loop.run_until_complete(main()) # cannot be called on a loop that's already running\n",
    "         loop.create_task(main())\n",
    "         print(\"end of try block\")\n",
    "     except RuntimeError:\n",
    "         print(\"Except block\")\n",
    "         # If the loop is closed, you need to reopen it\n",
    "         loop = asyncio.new_event_loop()\n",
    "         asyncio.set_event_loop(loop)\n",
    "         loop.run_until_complete(main())  # Correct way to run the coroutine on the new loop\n",
    "         print(\"End of except block\")\n",
    "     ```\n",
    "\n",
    "4. **Summary**:\n",
    "   - In a Jupyter Notebook, use `loop.create_task(main())` without `run_until_complete` in the `try` block.\n",
    "   - In the `except` block, where you're dealing with a fresh event loop, use `loop.run_until_complete(main())` to run the coroutine to completion.\n",
    "\n",
    "This approach should avoid the errors and warnings you've encountered and allow your asyncio code to run smoothly in a Jupyter Notebook environment."
   ]
  },
  {
   "cell_type": "markdown",
   "metadata": {},
   "source": [
    "### **If the try block was not fixed** and if the except block has the line `loop.run_until_complete(main())`"
   ]
  },
  {
   "cell_type": "markdown",
   "metadata": {},
   "source": [
    "\"... because the Jupyter Notebook's event loop is still running, this leads to another `RuntimeError`: Cannot run the event loop while another loop is running.\"\n",
    "\n",
    "**How can I correct the except block to avoid this?**"
   ]
  },
  {
   "cell_type": "code",
   "execution_count": 21,
   "metadata": {},
   "outputs": [
    {
     "name": "stdout",
     "output_type": "stream",
     "text": [
      "try block\n",
      "Except block\n",
      "End of except block\n"
     ]
    },
    {
     "name": "stderr",
     "output_type": "stream",
     "text": [
      "/tmp/ipykernel_25853/2174216866.py:54: RuntimeWarning: coroutine 'main' was never awaited\n",
      "  print(\"End of except block\")\n",
      "RuntimeWarning: Enable tracemalloc to get the object allocation traceback\n"
     ]
    }
   ],
   "source": [
    "import asyncio\n",
    "import random\n",
    "\n",
    "# Simulate fetching variant information\n",
    "async def fetch_variant_data():\n",
    "    print(\"Fetching variant data...\")\n",
    "    await asyncio.sleep(random.randint(1, 3))  # Simulate network delay\n",
    "    print(\"Variant data fetched!\")\n",
    "    return \"Variant Data\"\n",
    "\n",
    "# Simulate fetching gene expression data\n",
    "async def fetch_gene_expression():\n",
    "    print(\"Fetching gene expression data...\")\n",
    "    await asyncio.sleep(random.randint(1, 3))  # Simulate network delay\n",
    "    print(\"Gene expression data fetched!\")\n",
    "    return \"Gene Expression Data\"\n",
    "\n",
    "# Callback to process data after fetching\n",
    "def process_data(future):\n",
    "    data = future.result()\n",
    "    print(f\"Processing {data}...\")\n",
    "\n",
    "# Main function to run the event loop\n",
    "async def main():\n",
    "    # Create tasks for fetching data\n",
    "    variant_task = asyncio.create_task(fetch_variant_data())\n",
    "    gene_expression_task = asyncio.create_task(fetch_gene_expression())\n",
    "\n",
    "    # Attach callbacks to each task\n",
    "    variant_task.add_done_callback(process_data)\n",
    "    gene_expression_task.add_done_callback(process_data)\n",
    "\n",
    "    # Wait for all tasks to complete\n",
    "    await asyncio.gather(variant_task, gene_expression_task)\n",
    "\n",
    "# Instead of using asyncio.run, use the existing event loop\n",
    "loop = asyncio.get_event_loop()\n",
    "\n",
    "# NOT FIXING THE TRY BLOCK\n",
    "try:\n",
    "    print(\"try block\")\n",
    "    loop.run_until_complete(main()) # cannot be called on a loop that's already running\n",
    "    \n",
    "    # Schedule main() as a task within the existing event loop\n",
    "    # loop.create_task(main())\n",
    "    print(\"end of try block\")\n",
    "except RuntimeError:\n",
    "    print(\"Except block\")\n",
    "    # If the loop is closed (unlikely in Jupyter), you need to reopen it and run main\n",
    "    loop = asyncio.new_event_loop()\n",
    "    asyncio.set_event_loop(loop)\n",
    "    # loop.run_until_complete(main()) # FAILS because the Jupyter Notebook's event loop is still running\n",
    "    loop.create_task(main()) # Also fails because the event loop was not started: 'coroutine 'main' was never awaited'\n",
    "    print(\"End of except block\")"
   ]
  },
  {
   "cell_type": "markdown",
   "metadata": {},
   "source": [
    "The warning you're encountering indicates that the coroutine `main()` was scheduled as a task in the event loop but was not awaited. This can happen when you use `loop.create_task(main())` but do not start the event loop with `loop.run_until_complete(main())` or `loop.run_forever()`. \n",
    "\n",
    "However, in a Jupyter Notebook environment, you typically don't need to start the event loop manually because it's already running.\n",
    "\n",
    "Here's how you can modify your script to ensure that the coroutine `main()` is properly scheduled and executed within the Jupyter Notebook's event loop:\n",
    "\n",
    "**ANSWER**: FIXING THE TRY BLOCK"
   ]
  },
  {
   "cell_type": "code",
   "execution_count": 22,
   "metadata": {},
   "outputs": [
    {
     "name": "stdout",
     "output_type": "stream",
     "text": [
      "try block\n",
      "end of try block\n"
     ]
    },
    {
     "name": "stdout",
     "output_type": "stream",
     "text": [
      "Fetching variant data...\n",
      "Fetching gene expression data...\n",
      "Variant data fetched!\n",
      "Processing Variant Data...\n",
      "Gene expression data fetched!\n",
      "Processing Gene Expression Data...\n"
     ]
    }
   ],
   "source": [
    "import asyncio\n",
    "import random\n",
    "\n",
    "# Simulate fetching variant information\n",
    "async def fetch_variant_data():\n",
    "    print(\"Fetching variant data...\")\n",
    "    await asyncio.sleep(random.randint(1, 3))  # Simulate network delay\n",
    "    print(\"Variant data fetched!\")\n",
    "    return \"Variant Data\"\n",
    "\n",
    "# Simulate fetching gene expression data\n",
    "async def fetch_gene_expression():\n",
    "    print(\"Fetching gene expression data...\")\n",
    "    await asyncio.sleep(random.randint(1, 3))  # Simulate network delay\n",
    "    print(\"Gene expression data fetched!\")\n",
    "    return \"Gene Expression Data\"\n",
    "\n",
    "# Callback to process data after fetching\n",
    "def process_data(future):\n",
    "    data = future.result()\n",
    "    print(f\"Processing {data}...\")\n",
    "\n",
    "# Main function to run the event loop\n",
    "async def main():\n",
    "    # Create tasks for fetching data\n",
    "    variant_task = asyncio.create_task(fetch_variant_data())\n",
    "    gene_expression_task = asyncio.create_task(fetch_gene_expression())\n",
    "\n",
    "    # Attach callbacks to each task\n",
    "    variant_task.add_done_callback(process_data)\n",
    "    gene_expression_task.add_done_callback(process_data)\n",
    "\n",
    "    # Wait for all tasks to complete\n",
    "    await asyncio.gather(variant_task, gene_expression_task)\n",
    "\n",
    "# Use the existing event loop\n",
    "loop = asyncio.get_event_loop()\n",
    "\n",
    "# FIXING THE TRY BLOCK\n",
    "try:\n",
    "    print(\"try block\")\n",
    "    # Schedule main() as a task within the existing event loop\n",
    "    loop.create_task(main())\n",
    "    print(\"end of try block\")\n",
    "except RuntimeError:\n",
    "    print(\"Except block\")\n",
    "    # In Jupyter, this block is unlikely to be executed EVER, but it's here as a fallback\n",
    "    # Create a new event loop and set it as the current loop\n",
    "    loop = asyncio.new_event_loop()\n",
    "    asyncio.set_event_loop(loop)\n",
    "    # Schedule main() as a task within the new event loop\n",
    "    loop.create_task(main())\n",
    "    print(\"End of except block\")\n",
    "\n",
    "# No need to explicitly run the event loop in Jupyter Notebook"
   ]
  },
  {
   "cell_type": "markdown",
   "metadata": {},
   "source": [
    "In this modification:\n",
    "- In the `try` block, we schedule `main()` as a task within the existing event loop. **This is typically the only block that will be executed in a Jupyter environment**.\n",
    "- The `except` block is a **fallback** for environments where **the event loop is not already running**. However, **in a Jupyter Notebook, this block is unlikely to be needed**.\n",
    "- There's no need to explicitly run the event loop with `run_until_complete` or `run_forever` since the **Jupyter Notebook environment should handle that for you**.\n",
    "\n",
    "This approach should work in a Jupyter Notebook environment, allowing your asynchronous code to execute without raising the warning about the coroutine not being awaited."
   ]
  },
  {
   "cell_type": "code",
   "execution_count": null,
   "metadata": {},
   "outputs": [],
   "source": []
  }
 ],
 "metadata": {
  "kernelspec": {
   "display_name": "nf",
   "language": "python",
   "name": "python3"
  },
  "language_info": {
   "codemirror_mode": {
    "name": "ipython",
    "version": 3
   },
   "file_extension": ".py",
   "mimetype": "text/x-python",
   "name": "python",
   "nbconvert_exporter": "python",
   "pygments_lexer": "ipython3",
   "version": "3.9.13"
  }
 },
 "nbformat": 4,
 "nbformat_minor": 2
}
