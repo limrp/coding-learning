{
 "cells": [
  {
   "cell_type": "markdown",
   "metadata": {},
   "source": [
    "# An event loop"
   ]
  },
  {
   "cell_type": "markdown",
   "metadata": {},
   "source": [
    "An event loop is the core of any asynchronous application in Python. It is a programming construct that waits for and dispatches events or messages in a program. It works by:\n",
    "\n",
    "- Running asynchronous tasks, which are scheduled to run in the loop.\n",
    "- Handling I/O events, which might be reading from a file or network socket.\n",
    "- Executing `callbacks`, which are functions scheduled to run after some asynchronous operation completes.\n",
    "- Managing subprocesses, timers, and signal handlers.\n",
    "\n",
    "In the context of `asyncio`, the event loop is responsible for juggling various tasks. It keeps track of all the running tasks and executes them when they are ready, for instance, after an awaited I/O operation is complete, like receiving data from a network connection. This allows for concurrent execution without the need for multiple threads, making efficient use of the single thread by ensuring it's always doing useful work and not idly waiting for I/O operations to complete."
   ]
  },
  {
   "cell_type": "markdown",
   "metadata": {},
   "source": [
    "# Example"
   ]
  },
  {
   "cell_type": "markdown",
   "metadata": {},
   "source": [
    "Let's create a simple example that uses `asyncio`'s methods to run an asynchronous task and attach a callback to it.\n",
    "\n",
    "1. **Define an asynchronous task** that will wait for a second and then print a message.\n",
    "2. **Attach a callback** to this task, which will print a message when the task completes.\n",
    "3. **Use the event loop** to run the task and wait for it to finish."
   ]
  },
  {
   "cell_type": "markdown",
   "metadata": {},
   "source": [
    "## E.1. **Define an asynchronous task**"
   ]
  },
  {
   "cell_type": "code",
   "execution_count": null,
   "metadata": {},
   "outputs": [],
   "source": [
    "import asyncio\n",
    "\n",
    "# Asynchronous function that simulates a task \n",
    "#=> it's a coroutine because it is defined by \"async def\"\n",
    "async def simulated_task(): \n",
    "    print(\"Task: Starting a simulated task...\")\n",
    "    # The following line simulates an I/O-bound task with a 1-second \n",
    "    # it simulates an asynchronous task that takes some time to complete\n",
    "    await asyncio.sleep(1) #=> also a coroutine, a built-in coroutine\n",
    "    # await is a keyword that can only be used inside coroutines\n",
    "    # Meaning: Pause this part of the code until asyncio.sleep(1) is done\n",
    "    print(\"Task: Simulated task completed.\")"
   ]
  },
  {
   "cell_type": "markdown",
   "metadata": {},
   "source": [
    "This Python snippet defines an asynchronous function and simulates an asynchronous task that takes some time to complete. Here's the breakdown:\n",
    "\n",
    "1. `async def simulated_task():`\n",
    "   - This line defines an asynchronous function named `simulated_task`. The `async` keyword indicates that the function is an asynchronous coroutine, which means it's designed to be used with `await` and can be paused and resumed by an event loop.\n",
    "\n",
    "2. `print(\"Task: Starting a simulated task...\")`\n",
    "   - When the `simulated_task` function is called, it will immediately print this line to the console, indicating that the simulated task has started.\n",
    "\n",
    "3. `await asyncio.sleep(1)`\n",
    "   - This line is where the asynchronous behavior is demonstrated. The `await` keyword is used to wait for the `asyncio.sleep(1)` coroutine to finish without blocking the entire program.\n",
    "   - The `asyncio.sleep(1)` function is an asynchronous equivalent of `time.sleep(1)` but for async functions. It tells the event loop to pause this particular coroutine (`simulated_task`), allowing other tasks to run during this sleep period. The `1` argument means that the coroutine will pause for 1 second.\n",
    "\n",
    "4. `print(\"Task: Simulated task completed.\")`\n",
    "   - After the 1-second pause, the coroutine resumes and prints this final line to the console, indicating that the simulated task has been completed.\n",
    "\n",
    "The `simulated_task` coroutine, when run by an event loop, will show output indicating the start and completion of the task with a 1-second gap between the messages, demonstrating the asynchronous \"wait\" in action."
   ]
  },
  {
   "cell_type": "markdown",
   "metadata": {},
   "source": [
    "### E.1.1. A `coroutine`"
   ]
  },
  {
   "cell_type": "markdown",
   "metadata": {},
   "source": [
    "A **coroutine** in Python is a special function that can pause and resume its execution. Unlike regular functions that run from start to finish in a single sequence, coroutines are designed for concurrent execution, meaning they can be paused at certain points during their execution to allow other coroutines to run, and then can be resumed later.\n",
    "\n",
    "Here's why `simulated_task` is a coroutine:\n",
    "\n",
    "1. **Defined with `async`**: The `simulated_task` function is defined with the `async def` syntax, which is used to declare a coroutine. This syntax tells Python that the function can be paused and resumed, and it will return a coroutine object when called.\n",
    "\n",
    "2. **Uses `await`**: Inside `simulated_task`, there is an `await` expression, which can only be used within coroutines. The `await` keyword is used to pause the coroutine until the awaited operation (`asyncio.sleep(1)` in this case) is completed. During this pause, control is given back to the event loop, which can manage other tasks or coroutines.\n",
    "\n",
    "3. **Designed for asynchronous operations**: Coroutines are a key part of Python's asynchronous programming features, and they're used for I/O-bound and high-level structured network code. They enable efficient execution of I/O operations without blocking the thread in which they're running. This is especially useful in scenarios like web servers handling many concurrent connections.\n",
    "\n",
    "In summary, `simulated_task` is a coroutine because it is defined to work with asynchronous operations, it uses `async` and `await` syntax, and it can be paused and resumed by an event loop, which allows for non-blocking concurrent execution."
   ]
  },
  {
   "cell_type": "markdown",
   "metadata": {},
   "source": [
    "### E.1.2. Is `asyncio.sleep(1)` also a `coroutine`?"
   ]
  },
  {
   "cell_type": "markdown",
   "metadata": {},
   "source": [
    "Yes, `asyncio.sleep(1)` is a coroutine. A coroutine is a special type of function in Python that can pause its execution before reaching `return`, and it can temporarily give control back to the event loop until some condition is met.\n",
    "\n",
    "The difference between `asyncio.sleep(1)` and `time.sleep(1)` is significant in the context of asynchronous programming:\n",
    "\n",
    "- `asyncio.sleep(1)` is an asynchronous coroutine that tells the event loop to pause the execution of the current task (without blocking the entire thread) and to resume it after 1 second. While it's \"sleeping,\" other coroutines can be executed by the event loop.\n",
    "- `time.sleep(1)`, on the other hand, is a synchronous operation that blocks the entire thread in which it's running. This means that nothing else can execute in that thread until the sleep is over, which is not ideal in an asynchronous context because it would prevent the processing of other tasks.\n",
    "\n",
    "If you used `time.sleep(1)` inside an `async` function, it would block the entire event loop, negating the benefits of asynchronous programming. It's generally a bad practice to use blocking calls like `time.sleep()` in asynchronous code because it can cause the application to become unresponsive.\n",
    "\n"
   ]
  },
  {
   "cell_type": "markdown",
   "metadata": {},
   "source": [
    "### E.1.3. Are `simulated_task` and `asyncio.sleep(1)` both `coroutines`?"
   ]
  },
  {
   "cell_type": "markdown",
   "metadata": {},
   "source": [
    "Yes, both `simulated_task` and `asyncio.sleep(1)` are coroutines in the context of Python's `asyncio` framework.\n",
    "\n",
    "Here's how they work:\n",
    "\n",
    "- `simulated_task`: This is a user-defined coroutine function, which you declare with the `async` keyword. When you call this function, it doesn't run immediately; instead, it returns a coroutine object which can then be awaited.\n",
    "  \n",
    "- `asyncio.sleep(1)`: This is a built-in coroutine provided by the `asyncio` module. It's designed to work with asynchronous code and, when awaited, will pause the execution of the coroutine where it's awaited for the specified duration (1 second in this case). During that time, the event loop can run other tasks.\n",
    "\n",
    "Coroutines provide the foundation for asynchronous programming in Python, enabling the event loop to switch between different tasks, thus facilitating concurrent execution."
   ]
  },
  {
   "cell_type": "markdown",
   "metadata": {},
   "source": [
    "## E.x. Define the `callback` function"
   ]
  },
  {
   "cell_type": "code",
   "execution_count": null,
   "metadata": {},
   "outputs": [],
   "source": [
    "import asyncio\n",
    "\n",
    "# Asynchronous function that simulates a task \n",
    "#=> it's a coroutine because it is defined by \"async def\"\n",
    "async def simulated_task(): \n",
    "    print(\"Task: Starting a simulated task...\")\n",
    "    # The following line simulates an I/O-bound task with a 1-second \n",
    "    # it simulates an asynchronous task that takes some time to complete\n",
    "    await asyncio.sleep(1) #=> also a coroutine, a built-in coroutine\n",
    "    # await is a keyword that can only be used inside coroutines\n",
    "    # Meaning: Pause this part of the code until asyncio.sleep(1) is done\n",
    "    print(\"Task: Simulated task completed.\")\n",
    "\n",
    "# Callback function to be called when the simulated task is done\n",
    "def on_task_complete(future):\n",
    "    print(\"This is a Callback function that informs that the task has completed!\")"
   ]
  },
  {
   "cell_type": "markdown",
   "metadata": {},
   "source": [
    "## E.2. **Attach a callback**: happens inside the `main` coroutine => line 24"
   ]
  },
  {
   "cell_type": "markdown",
   "metadata": {},
   "source": [
    "Attach a callback to this task, which will print a message when the task completes."
   ]
  },
  {
   "cell_type": "code",
   "execution_count": null,
   "metadata": {},
   "outputs": [],
   "source": [
    "import asyncio\n",
    "\n",
    "# Asynchronous function that simulates a task \n",
    "#=> it's a coroutine because it is defined by \"async def\"\n",
    "async def simulated_task(): \n",
    "    print(\"Task: Starting a simulated task...\")\n",
    "    # The following line simulates an I/O-bound task with a 1-second \n",
    "    # it simulates an asynchronous task that takes some time to complete\n",
    "    await asyncio.sleep(1) #=> also a coroutine, a built-in coroutine\n",
    "    # await is a keyword that can only be used inside coroutines\n",
    "    # Meaning: Pause this part of the code until asyncio.sleep(1) is done\n",
    "    print(\"Task: Simulated task completed.\")\n",
    "\n",
    "# Callback function to be called when the simulated task is done\n",
    "def on_task_complete(future):\n",
    "    print(\"This is a Callback function that informs that the task has completed!\")\n",
    "\n",
    "# Main function to run the event loop\n",
    "async def main():\n",
    "    # Schedule the simulated_task to run and get a 'future' object\n",
    "    task = asyncio.ensure_future(simulated_task())\n",
    "    \n",
    "    # Attach the callback to the future object\n",
    "    task.add_done_callback(on_task_complete) # <<==\n",
    "    \n",
    "    # Wait until the task is completed\n",
    "    await task"
   ]
  },
  {
   "cell_type": "markdown",
   "metadata": {},
   "source": [
    "The attaching of a callback to a task occurs when you explicitly add a function to be called once the task completes. \n",
    "\n",
    "In the example provided, the callback attachment is done with this line:\n",
    "\n",
    "```python\n",
    "task.add_done_callback(on_task_complete)\n",
    "```\n",
    "\n",
    "This line of code attaches the `on_task_complete` function as a callback to the `task` object. Here's the sequence:\n",
    "\n",
    "1. **Task Creation**: A `task` is created when `asyncio.ensure_future(simulated_task())` is called. This schedules `simulated_task` to be executed by the event loop.\n",
    "\n",
    "2. **Callback Attachment**: The `task.add_done_callback(on_task_complete)` line is then called, which tells the event loop, \"When this task is finished, call the `on_task_complete` function.\"\n",
    "\n",
    "3. **Task Execution**: The event loop runs the `simulated_task` coroutine.\n",
    "\n",
    "4. **Callback Execution**: Once `simulated_task` has completed, the event loop notices that there is a callback attached to the task. It then calls the `on_task_complete` function, effectively notifying that the task is done.\n",
    "\n",
    "This callback mechanism is a way to execute some additional code in response to the completion of a task, without needing to change the structure of the coroutines themselves. It can be very useful for triggering actions like cleanup, logging, or updating a user interface, once some asynchronous operation has finished."
   ]
  },
  {
   "cell_type": "markdown",
   "metadata": {},
   "source": [
    "## E.3. **Use the event loop**"
   ]
  },
  {
   "cell_type": "markdown",
   "metadata": {},
   "source": [
    "... to run the task and wait for it to finish."
   ]
  },
  {
   "cell_type": "markdown",
   "metadata": {},
   "source": [
    "The phrase \"use the event loop to run the task and wait for it to finish\" describes the process of scheduling and executing a coroutine within the context of the event loop.\n",
    "\n",
    "In the example I provided earlier, this happens in the following section of the code:\n",
    "\n",
    "```python\n",
    "# Start the event loop and run the main function\n",
    "asyncio.run(main())\n",
    "```\n",
    "\n",
    "Here's what happens behind the scenes when you call `asyncio.run(main())`:\n",
    "\n",
    "1. **Event Loop Setup**: `asyncio.run` takes care of setting up a new event loop, preparing it to run the tasks.\n",
    "   \n",
    "2. **Running the Main Coroutine**: The `main` coroutine is scheduled to run on the event loop. This is the entry point for your asynchronous program.\n",
    "\n",
    "3. **Task Scheduling**: Inside the `main` coroutine, `asyncio.ensure_future(simulated_task())` schedules the `simulated_task` coroutine to be run on the event loop. This returns a `Task` object, which is a special kind of Future that wraps the execution of the coroutine.\n",
    "\n",
    "4. **Awaiting the Task**: The `await task` line in the `main` coroutine tells the event loop to run the `simulated_task` and pause the `main` coroutine until `simulated_task` is complete. During this pause, the event loop is free to run other tasks or **callbacks**.\n",
    "\n",
    "5. **Task Execution**: The event loop executes the `simulated_task`, which involves waiting for `asyncio.sleep(1)` to complete. While `simulated_task` is \"sleeping,\" the event loop can perform other work.\n",
    "\n",
    "6. **Callback Invocation**: Once the `simulated_task` is finished, the event loop calls the `on_task_complete` callback function.\n",
    "\n",
    "7. **Cleanup**: After `main` has finished executing, `asyncio.run` closes the event loop and finalizes any remaining tasks and callbacks.\n",
    "\n",
    "The entire process is managed by the event loop, which is why you don't see explicit instructions to \"run this task now\" or \"wait for this coroutine.\" The `async`/`await` syntax and the `asyncio` functions abstract those details, providing a more intuitive interface for concurrent programming."
   ]
  },
  {
   "cell_type": "code",
   "execution_count": 2,
   "metadata": {},
   "outputs": [],
   "source": [
    "import asyncio\n",
    "\n",
    "# Asynchronous function that simulates a task \n",
    "#=> it's a coroutine because it is defined by \"async def\"\n",
    "async def simulated_task(): \n",
    "    print(\"Task: Starting a simulated task...\")\n",
    "    # The following line simulates an I/O-bound task with a 1-second \n",
    "    # it simulates an asynchronous task that takes some time to complete\n",
    "    await asyncio.sleep(1) #=> also a coroutine, a built-in coroutine\n",
    "    # await is a keyword that can only be used inside coroutines\n",
    "    # Meaning: Pause this part of the code until asyncio.sleep(1) is done\n",
    "    print(\"Task: Simulated task completed.\")\n",
    "\n",
    "# Callback function to be called when the simulated task is done\n",
    "def on_task_complete(future):\n",
    "    print(\"This is a Callback function that informs that the task has completed!\")\n",
    "\n",
    "# Main function to run the event loop\n",
    "async def main():\n",
    "    # Schedule the simulated_task to run and get a 'future' object\n",
    "    task = asyncio.ensure_future(simulated_task())\n",
    "    \n",
    "    # Attach the callback to the future object\n",
    "    task.add_done_callback(on_task_complete)\n",
    "    \n",
    "    # Wait until the task is completed\n",
    "    await task\n",
    "\n",
    "# Start the event loop and run the main function\n",
    "asyncio.run(main())"
   ]
  },
  {
   "cell_type": "markdown",
   "metadata": {},
   "source": [
    "The error you encountered, \"RuntimeError: asyncio.run() cannot be called from a running event loop,\" indicates that you are attempting to start an event loop while one is already running. In a Jupyter notebook environment, which I see you're using from the file path in the error message, there is already an event loop running in the background to manage the notebook's asynchronous operations.\n",
    "\n",
    "In such environments, you cannot use `asyncio.run()` directly because it tries to create a new event loop, but an event loop is already present and running. Instead, you should run your coroutine within the existing event loop.\n",
    "\n",
    "In the Jupyter notebook environment, you can often simply call `await main()` directly in a notebook cell to execute your asynchronous code.\n",
    "\n",
    "Here's how you can modify the code to run in a Jupyter notebook:"
   ]
  },
  {
   "cell_type": "code",
   "execution_count": 1,
   "metadata": {},
   "outputs": [
    {
     "name": "stdout",
     "output_type": "stream",
     "text": [
      "try block\n",
      "end of try block\n"
     ]
    },
    {
     "name": "stdout",
     "output_type": "stream",
     "text": [
      "Task: Starting a simulated task...\n",
      "Task: Simulated task completed.\n",
      "This is a Callback function: The task has completed!\n"
     ]
    }
   ],
   "source": [
    "import asyncio\n",
    "\n",
    "# Asynchronous function that simulates a task\n",
    "async def simulated_task():\n",
    "    print(\"Task: Starting a simulated task...\")\n",
    "    await asyncio.sleep(1)  # This simulates an I/O-bound task with a 1-second delay\n",
    "    print(\"Task: Simulated task completed.\")\n",
    "\n",
    "# Callback function to be called when the simulated task is done\n",
    "def on_task_complete(future):\n",
    "    print(\"This is a Callback function: The task has completed!\")\n",
    "\n",
    "# Main function to run the event loop\n",
    "async def main():\n",
    "    # Schedule the simulated_task to run and get a future object\n",
    "    task = asyncio.ensure_future(simulated_task())\n",
    "    \n",
    "    # Attach the callback to the future object\n",
    "    task.add_done_callback(on_task_complete)\n",
    "    \n",
    "    # Wait until the task is completed\n",
    "    await task\n",
    "\n",
    "# Instead of using asyncio.run, use the existing event loop\n",
    "loop = asyncio.get_event_loop()\n",
    "\n",
    "try:\n",
    "    print(\"try block\")\n",
    "    loop.create_task(main())\n",
    "    print(\"end of try block\")\n",
    "    # Instead of run_forever, you may use loop.run_until_complete(main())\n",
    "except RuntimeError:\n",
    "    # If the loop is closed, you need to reopen it\n",
    "    print(\"Except block\")\n",
    "    loop = asyncio.new_event_loop()\n",
    "    asyncio.set_event_loop(loop)\n",
    "    loop.create_task(main())\n",
    "    # Instead of run_forever, you may use loop.run_until_complete(main())\n",
    "    print(\"End of except block\")"
   ]
  },
  {
   "cell_type": "markdown",
   "metadata": {},
   "source": [
    "## Explanation #1"
   ]
  },
  {
   "cell_type": "markdown",
   "metadata": {},
   "source": [
    "Sure, let's break down the script and clarify the points about `run_forever` and `run_until_complete`.\n",
    "\n",
    "### The Script Breakdown\n",
    "\n",
    "1. **Asynchronous Function (`simulated_task`)**: This coroutine function starts a task, pauses for one second (simulating an I/O operation), and then marks the task as completed.\n",
    "\n",
    "2. **Callback Function (`on_task_complete`)**: A standard function that will be called once the asynchronous task is complete. It takes one argument, `future`, which represents the future object associated with the completed task.\n",
    "\n",
    "3. **Main Coroutine (`main`)**: This coroutine schedules `simulated_task` to run, attaches a callback to it, and then awaits its completion. The `await` keyword is used to pause the execution of `main` until `simulated_task` is finished.\n",
    "\n",
    "4. **Event Loop**: This is the main mechanism of the `asyncio` library, which orchestrates the execution of asynchronous tasks and callbacks.\n",
    "\n",
    "### The Event Loop Execution\n",
    "\n",
    "1. **Getting the Event Loop**: `asyncio.get_event_loop()` fetches the current event loop. In a Jupyter notebook, this will get the already running event loop.\n",
    "\n",
    "2. **Scheduling the `main` Coroutine**: `loop.create_task(main())` schedules the `main` coroutine to run on the event loop. This is an alternative to `asyncio.run()`, which is not usable here because the event loop is already running.\n",
    "\n",
    "### Handling `RuntimeError`\n",
    "\n",
    "- **Try/Except Block**: The script tries to create a task with the current event loop. If it encounters a `RuntimeError` (which indicates the event loop is already running), it handles it by creating a new event loop and scheduling the `main` coroutine on it.\n",
    "\n",
    "### About `run_forever` and `run_until_complete`\n",
    "\n",
    "- **`run_forever`**: This method of `asyncio` event loop runs until the `stop()` method is called. It is used when you want the event loop to run indefinitely and handle tasks as they come in, which is not typically what you want in a script that should execute and exit once done.\n",
    "\n",
    "- **`run_until_complete`**: This method will run the event loop until a given future (a task, for example) is completed. If you use `loop.run_until_complete(main())` instead of `loop.create_task(main())`, the event loop will run the `main` coroutine and then stop once it completes. This is more suitable for scripts that should execute an asynchronous operation and then finish.\n",
    "\n",
    "In the context of this script within a Jupyter notebook, you wouldn't typically need to use `run_forever` or `run_until_complete`, because the event loop is already running. You would simply schedule tasks with `create_task` or use `await` directly in the notebook cells."
   ]
  },
  {
   "cell_type": "markdown",
   "metadata": {},
   "source": [
    "## Explanation #2"
   ]
  },
  {
   "cell_type": "markdown",
   "metadata": {},
   "source": [
    "Certainly! Let's dissect the last part of the script.\n",
    "\n",
    "### Understanding the Event Loop Handling\n",
    "\n",
    "1. **Get the Current Event Loop**:\n",
    "```python\n",
    "loop = asyncio.get_event_loop()\n",
    "```\n",
    "   This retrieves the current event loop for the thread, which is necessary to run asynchronous tasks. In an environment like a Jupyter notebook, an event loop is already running to handle the notebook's async operations.\n",
    "\n",
    "2. **Try to Create a Task**:\n",
    "```python\n",
    "try:\n",
    "    loop.create_task(main())\n",
    "```\n",
    "   `loop.create_task(main())` attempts to schedule the `main()` coroutine on the event loop. \n",
    "   \n",
    "   It does this **without starting or stopping the event loop**, as it's assumed **the event loop is already running**.\n",
    "\n",
    "3. **Handle RuntimeError**:\n",
    "```python\n",
    "except RuntimeError:\n",
    "```\n",
    "   If a `RuntimeError` is caught, it typically means that the current event loop is closed and cannot run any more tasks. This might not happen in a standard Python script but can occur in environments like Jupyter notebooks or when using certain async libraries.\n",
    "\n",
    "4. **Create a New Event Loop**:\n",
    "```python\n",
    "loop = asyncio.new_event_loop()\n",
    "asyncio.set_event_loop(loop)\n",
    "```\n",
    "   If the current event loop is closed, these lines create a new event loop and set it as the current event loop for the thread.\n",
    "\n",
    "5. **Create a Task on the New Event Loop**:\n",
    "```python\n",
    "loop.create_task(main())\n",
    "```\n",
    "   After setting up the new event loop, the script then schedules the `main()` coroutine to run on it.\n",
    "\n",
    "### What is `run_forever`?\n",
    "\n",
    "- `run_forever()` is an asyncio event loop method that starts the loop and keeps it running indefinitely. It will keep processing tasks and callbacks until you explicitly call `loop.stop()`. It's useful in long-running programs like web servers.\n",
    "\n",
    "### What is `run_until_complete`?\n",
    "\n",
    "- `run_until_complete(main())` is an alternative method that runs the event loop until the `main()` coroutine is completed. It's useful for scripts that need to execute an asynchronous operation and then finish. You can think of it as saying, \"Run this coroutine to completion, and then stop the event loop.\"\n",
    "\n",
    "### Why Choose One Over the Other?\n",
    "\n",
    "- In a script or a command-line application, you often want to run the event loop until your main task is completed, hence `run_until_complete()` is suitable.\n",
    "- In long-running services, like web servers, you would use `run_forever()` because the server is supposed to run indefinitely, handling incoming requests as they arrive.\n",
    "\n",
    "### In Your Jupyter Notebook\n",
    "\n",
    "- Since you're using a Jupyter notebook, it manages its own event loop that is already running. This is why you're not calling `run_forever()` or `run_until_complete()`. Instead, you're scheduling tasks directly onto the loop with `create_task()`, which is the correct approach in this environment."
   ]
  },
  {
   "cell_type": "markdown",
   "metadata": {},
   "source": [
    "## In a jupyter notebook, is the current event loop closed?"
   ]
  },
  {
   "cell_type": "markdown",
   "metadata": {},
   "source": [
    "In a Jupyter Notebook, the current event loop is typically not closed; it is running to manage the notebook's interactive environment. The error you encountered with `asyncio.run()` suggests that it's trying to run an event loop **while there's already one running**, which is not allowed by the asyncio library.\n",
    "\n",
    "Jupyter Notebooks are designed to be interactive and continuously running to execute cells on demand. This requires an event loop to be running in the background to handle these asynchronous tasks. When you attempt to start a new event loop with `asyncio.run()` while the notebook's event loop is active, Python raises a `RuntimeError` because it detects that there's already an event loop in progress.\n",
    "\n",
    "That's why in the context of a Jupyter Notebook, you need to attach your coroutines to the existing event loop using methods like `create_task()` rather than trying to start a new event loop with `asyncio.run()`. This approach ensures that your asynchronous code can operate within the notebook's ongoing event loop.\n"
   ]
  },
  {
   "cell_type": "markdown",
   "metadata": {},
   "source": [
    "## In the new script, the part that is going to be executed is the `try` block?"
   ]
  },
  {
   "cell_type": "markdown",
   "metadata": {},
   "source": [
    "Yes, in the new script, the code inside the `try` block is the first to be executed. If it executes without any errors, the `except` block will be skipped. The `try` block contains the following line:\n",
    "\n",
    "```python\n",
    "loop.create_task(main())\n",
    "```\n",
    "\n",
    "This line attempts to create a new task from the coroutine `main()` and schedule it to run on the existing event loop. \n",
    "\n",
    "Since you're in a Jupyter Notebook environment, which **already has an event loop running**, this is the correct way to schedule coroutines to run.\n",
    "\n",
    "The `except` block is there to handle the specific situation where the current event loop has been closed. \n",
    "\n",
    "If that happens, a `RuntimeError` is raised, and the `except` block will run, creating a new event loop and scheduling the coroutine on that new loop. \n",
    "\n",
    "However, in a typical Jupyter Notebook session, **you wouldn't expect the event loop to be closed**, so the `try` block should suffice for running your coroutine."
   ]
  },
  {
   "cell_type": "markdown",
   "metadata": {},
   "source": [
    "# E.x. Breaking down the example"
   ]
  },
  {
   "cell_type": "markdown",
   "metadata": {},
   "source": [
    "Let's break down the example, which now includes the event loop, and go through what each part does.\n",
    "\n",
    "```python\n",
    "import asyncio\n",
    "\n",
    "# Asynchronous function that simulates a task\n",
    "async def simulated_task():\n",
    "    print(\"Task: Starting a simulated task...\")\n",
    "    await asyncio.sleep(1)  # This simulates an I/O-bound task with a 1-second delay\n",
    "    print(\"Task: Simulated task completed.\")\n",
    "\n",
    "# Callback function to be called when the simulated task is done\n",
    "def on_task_complete(future):\n",
    "    print(\"Callback: The task has completed!\")\n",
    "\n",
    "# Main function to run the event loop\n",
    "async def main():\n",
    "    # Schedule the simulated_task to run and get a future object\n",
    "    task = asyncio.ensure_future(simulated_task())\n",
    "    \n",
    "    # Attach the callback to the future object\n",
    "    task.add_done_callback(on_task_complete)\n",
    "    \n",
    "    # Wait until the task is completed\n",
    "    await task\n",
    "\n",
    "# Start the event loop and run the main function\n",
    "asyncio.run(main())\n",
    "```\n",
    "\n",
    "Here's the breakdown:\n",
    "\n",
    "1. **Import asyncio**: This imports the asyncio library, which contains the tools to write concurrent code using the async/await syntax.\n",
    "\n",
    "2. **`simulated_task` Coroutine**: This is an asynchronous function that simulates some task which takes 1 second to complete. It prints a message before and after the `await asyncio.sleep(1)` call, which simulates an I/O operation like reading a file or making a network request.\n",
    "\n",
    "3. **`on_task_complete` Callback Function**: This is a regular function that serves as a callback. It will be called once the `simulated_task` coroutine is completed. The `future` parameter is the `Future` object that represents the result of the asynchronous operation.\n",
    "\n",
    "4. **`main` Coroutine**: This is the main entry point of the asynchronous part of the program. It schedules `simulated_task` to run by wrapping it into a `Future` object (which is what `asyncio.ensure_future` does). Then it attaches the `on_task_complete` callback to the `task` using `add_done_callback`. Finally, it waits for the `task` to be completed using `await`.\n",
    "\n",
    "5. **Event Loop**: The event loop is the core of the asynchronous operations in Python. It manages, schedules, and executes asynchronous tasks and callbacks. `asyncio.run(main())` starts the event loop, schedules the `main` coroutine to run, and keeps the loop running until `main` completes.\n",
    "\n",
    "The event loop is responsible for:\n",
    "\n",
    "- Handling I/O events.\n",
    "- Running asynchronous tasks and callbacks.\n",
    "- Handling system signals.\n",
    "- Running scheduled functions (timeouts).\n",
    "\n",
    "In this example, `asyncio.run` handles the creation of the event loop, running the `main` coroutine within it, and closing the loop when `main` finishes. This is why you don't see explicit event loop creation or management with `loop = asyncio.get_event_loop()`—the `asyncio.run` function is a higher-level API that abstracts those details away.\n",
    "\n",
    "However, in older versions of Python (3.6 and earlier), you might have needed to get the event loop explicitly and start it like so:\n",
    "\n",
    "```python\n",
    "loop = asyncio.get_event_loop()\n",
    "try:\n",
    "    loop.run_until_complete(main())\n",
    "finally:\n",
    "    loop.close()\n",
    "```\n",
    "\n",
    "This code explicitly gets the event loop, runs the `main` coroutine until it is complete, and then closes the loop. This pattern is less common now with the introduction of `asyncio.run`."
   ]
  },
  {
   "cell_type": "markdown",
   "metadata": {},
   "source": [
    "`add_done_callback`"
   ]
  },
  {
   "cell_type": "markdown",
   "metadata": {},
   "source": [
    "Certainly! Here is the combined explanation with the correct sequence of events:\n",
    "\n",
    "1. **Scheduling the Task**: When you schedule the task with `asyncio.ensure_future(simulated_task())`, the event loop is instructed to begin executing `simulated_task` as soon as it can. This is the point where you tell the event loop, \"Please run this coroutine when you get a chance.\"\n",
    "\n",
    "2. **Awaiting the Task**: By using `await task`, you are telling the event loop to wait at that line until `simulated_task` has completed. This is effectively a pause in the coroutine, indicating, \"Pause here and don't continue until `simulated_task` is finished.\"\n",
    "\n",
    "3. **Task Completes**: When `simulated_task` completes, the event loop knows to proceed because the `await` was holding for this moment. This completion means that **the event loop will now look for any further instructions related to this task**.\n",
    "\n",
    "4. **Callback Triggered**: Immediately after `simulated_task` is done, the event loop will execute any callbacks that have been attached to the task using `add_done_callback`. This ensures that any associated actions that need to occur right after the task finishes are executed. \n",
    "\n",
    "5. **Resuming After Await**: Once the callback has run, the event loop then moves past the `await task` line and resumes execution of the `main` coroutine, which was paused at the `await`. The coroutine continues with any subsequent code that follows.\n",
    "\n",
    "To reiterate, the `await` keyword is used to pause the coroutine until the given task is complete. After completion, any defined callbacks are immediately executed, and then the coroutine that was paused by the `await` continues from where it left off."
   ]
  }
 ],
 "metadata": {
  "kernelspec": {
   "display_name": "jupyter",
   "language": "python",
   "name": "python3"
  },
  "language_info": {
   "codemirror_mode": {
    "name": "ipython",
    "version": 3
   },
   "file_extension": ".py",
   "mimetype": "text/x-python",
   "name": "python",
   "nbconvert_exporter": "python",
   "pygments_lexer": "ipython3",
   "version": "3.9.13"
  }
 },
 "nbformat": 4,
 "nbformat_minor": 2
}
